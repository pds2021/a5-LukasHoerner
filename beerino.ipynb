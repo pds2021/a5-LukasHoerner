{
  "nbformat": 4,
  "nbformat_minor": 0,
  "metadata": {
    "colab": {
      "name": "beerino.ipynb",
      "provenance": [],
      "authorship_tag": "ABX9TyOQ6G82rgSTrk6uKAHGyMA8",
      "include_colab_link": true
    },
    "kernelspec": {
      "name": "python3",
      "display_name": "Python 3"
    }
  },
  "cells": [
    {
      "cell_type": "markdown",
      "metadata": {
        "id": "view-in-github",
        "colab_type": "text"
      },
      "source": [
        "<a href=\"https://colab.research.google.com/github/pds2021/a5-LukasHoerner/blob/assignment_5/beerino.ipynb\" target=\"_parent\"><img src=\"https://colab.research.google.com/assets/colab-badge.svg\" alt=\"Open In Colab\"/></a>"
      ]
    },
    {
      "cell_type": "code",
      "metadata": {
        "id": "D_O7LdTBq0nh"
      },
      "source": [
        "from fastai.vision.all import *\r\n",
        "from fastai.vision.widgets import *\r\n",
        "from bs4 import BeautifulSoup\r\n",
        "import requests"
      ],
      "execution_count": null,
      "outputs": []
    },
    {
      "cell_type": "markdown",
      "metadata": {
        "id": "S5iciv4SKsAm"
      },
      "source": [
        "<img src=\"https://github.com/pds2021/a5-LukasHoerner/releases/download/0.1/beerino.png\">\r\n",
        "\r\n",
        "Drinking beer is a challenging task on its own. On top of that, the process of choosing the beer to drink is one of the main problems to solve since the origin of human kind! Especially during the pandemic, this process got even more difficult: While one could just ask the waiter for a recommendation or just pick the most famous beer in a bar, this totally changed since bars are closed now. For this reason, beerino helps you to pick the right beers while shopping. Just upload a picture of the beer you want to buy and beerino will show you the rating from <a href=\"https://bierbasis.de/\">bierbasis.de</a> - one of Germanys biggest websited to rate beer.\r\n",
        "\r\n",
        "Currently beerino supports the classification of 198 different types of beer from Germany. If beerino cannot provide the right answer, you can check <a href=\"https://github.com/pds2021/a5-LukasHoerner/releases/download/0.1/available_categories.txt\">here</a>, if the app supports your chosen beer.\r\n",
        "As beer is the backbone of German idendity, this app will unite Germany in a way, the Solidaritätszuschlag never did.\r\n",
        "\r\n",
        ">  *“You can't be a real country unless you have a beer and an airline - it helps if you have some kind of football team, or some nuclear weapons, but in the very least you need a beer.”* Frank Zappa\r\n",
        "\r\n",
        "\r\n"
      ]
    },
    {
      "cell_type": "code",
      "metadata": {
        "id": "RXszubjIA_LR"
      },
      "source": [
        "download_url('https://github.com/pds2021/a5-LukasHoerner/releases/download/0.1/export.pkl', 'export.pkl')\r\n",
        "learn_inf = load_learner('export.pkl', cpu=True)\r\n",
        "btn_upload = widgets.FileUpload()\r\n",
        "btn_run = widgets.Button(description='Classify')\r\n",
        "lbl_info = widgets.Label()\r\n",
        "lbl_pred = widgets.Label()\r\n",
        "lbl_credits = widgets.Label()\r\n",
        "out_pl = widgets.Output()\r\n",
        "\r\n",
        "\r\n",
        "def rategetter(URL):\r\n",
        "    results = requests.get(URL)\r\n",
        "    src = results.content\r\n",
        "    soup = BeautifulSoup(src, 'html.parser')\r\n",
        "    ratings = soup.find_all(class_=\"hidden-xs background-none\")\r\n",
        "    resultset = ratings[0].find_all('strong')\r\n",
        "    nr_ratings = re.findall(r'\\d+', resultset[2].contents[0])\r\n",
        "    rating = re.findall(r'\\d+\\.\\d+', resultset[5].contents[0])\r\n",
        "    return [rating[0], nr_ratings[0]]\r\n",
        "\r\n",
        "def on_click_classify(change):\r\n",
        "    img = PILImage.create(btn_upload.data[-1])\r\n",
        "    out_pl.clear_output()\r\n",
        "    pred,pred_idx,probs = learn_inf.predict(img)\r\n",
        "    lbl_pred.value = f'Prediction: {pred}; Probability: {probs[pred_idx]:.04f}'\r\n",
        "    URL = 'https://bierbasis.de/bier/' + pred\r\n",
        "    rating, nr_ratings = rategetter(URL)\r\n",
        "    lbl_info.value = f'rated with: {rating}/10 on {nr_ratings} reviews'\r\n",
        "    lbl_credits.value = f'more information on {URL}'\r\n",
        "    with out_pl: display(img.to_thumb(512,512))\r\n",
        "\r\n",
        "btn_run.on_click(on_click_classify)\r\n",
        "\r\n",
        "VBox([widgets.Label('Show me your beer!'), \r\n",
        "      btn_upload, btn_run, lbl_pred, lbl_info,lbl_credits, out_pl])"
      ],
      "execution_count": null,
      "outputs": []
    }
  ]
}