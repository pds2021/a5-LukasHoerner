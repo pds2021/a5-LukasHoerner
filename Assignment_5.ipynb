{
  "nbformat": 4,
  "nbformat_minor": 0,
  "metadata": {
    "colab": {
      "name": "Assignment_5.ipynb",
      "provenance": [],
      "collapsed_sections": [],
      "toc_visible": true,
      "include_colab_link": true
    },
    "kernelspec": {
      "display_name": "fastai",
      "language": "python",
      "name": "fastai"
    },
    "language_info": {
      "codemirror_mode": {
        "name": "ipython",
        "version": 3
      },
      "file_extension": ".py",
      "mimetype": "text/x-python",
      "name": "python",
      "nbconvert_exporter": "python",
      "pygments_lexer": "ipython3",
      "version": "3.8.6"
    },
    "toc": {
      "base_numbering": 1,
      "nav_menu": {},
      "number_sections": true,
      "sideBar": true,
      "skip_h1_title": true,
      "title_cell": "Table of Contents",
      "title_sidebar": "Contents",
      "toc_cell": false,
      "toc_position": {},
      "toc_section_display": true,
      "toc_window_display": false
    }
  },
  "cells": [
    {
      "cell_type": "markdown",
      "metadata": {
        "id": "view-in-github",
        "colab_type": "text"
      },
      "source": [
        "<a href=\"https://colab.research.google.com/github/pds2021/a5-LukasHoerner/blob/assignment_5/Assignment_5.ipynb\" target=\"_parent\"><img src=\"https://colab.research.google.com/assets/colab-badge.svg\" alt=\"Open In Colab\"/></a>"
      ]
    },
    {
      "cell_type": "markdown",
      "metadata": {
        "id": "tGc2_6yfntEV"
      },
      "source": [
        "*Practical Data Science 20/21*\n",
        "# Programming Assignment 5 - Create your own App"
      ]
    },
    {
      "cell_type": "markdown",
      "metadata": {
        "id": "IoLPBsbcntEY"
      },
      "source": [
        "In this programming assignment you'll build a model that serves as a foundation for your own app. To this end, you will create your own dataset, build a deep learning model on this data, and deploy it!"
      ]
    },
    {
      "cell_type": "code",
      "metadata": {
        "colab": {
          "base_uri": "https://localhost:8080/"
        },
        "id": "1LFwWTzNF40e",
        "outputId": "29843223-4f60-433b-c208-38c4652ac14d"
      },
      "source": [
        "!pip install -Uqq fastai  # upgrade fastai on colab\n",
        "from fastai.vision.all import *\n",
        "from fastai.vision.widgets import *\n",
        "from bs4 import BeautifulSoup\n",
        "import requests\n",
        "import pandas as ps\n",
        "import re\n",
        "import json\n",
        "from fastcore.foundation import L"
      ],
      "execution_count": 20,
      "outputs": [
        {
          "output_type": "stream",
          "text": [
            "\u001b[K     |████████████████████████████████| 194kB 8.4MB/s \n",
            "\u001b[K     |████████████████████████████████| 61kB 4.6MB/s \n",
            "\u001b[?25h"
          ],
          "name": "stdout"
        }
      ]
    },
    {
      "cell_type": "markdown",
      "metadata": {
        "id": "W66apl0K_0-p"
      },
      "source": [
        "__Google Drive integration__\n",
        "\n",
        "If you want to store and access your downloaded data for this assignment you can use the following code:"
      ]
    },
    {
      "cell_type": "code",
      "metadata": {
        "colab": {
          "base_uri": "https://localhost:8080/"
        },
        "id": "yGFt-2HA_wEF",
        "outputId": "9b6feef2-092e-4a73-983c-b9c9eb115b39"
      },
      "source": [
        "from google.colab import drive\n",
        "drive.mount('/content/drive')\n",
        "!mkdir /content/drive/My\\ Drive/pds_a5\n",
        "%cd /content/drive/My\\ Drive/pds_a5"
      ],
      "execution_count": 2,
      "outputs": [
        {
          "output_type": "stream",
          "text": [
            "Mounted at /content/drive\n",
            "/content/drive/My Drive/pds_a5\n"
          ],
          "name": "stdout"
        }
      ]
    },
    {
      "cell_type": "markdown",
      "metadata": {
        "id": "0jMXp_ssBLeN"
      },
      "source": [
        "## Develop an Application Idea"
      ]
    },
    {
      "cell_type": "markdown",
      "metadata": {
        "id": "KubOl5bIGf1J"
      },
      "source": [
        "___Free your mind - this part is totally up to you.___\n",
        "\n",
        "Think of an app that you'd like to build.\n",
        "*   What useful app have you been missing?\n",
        "*   Do you have any hobbies an app could be helpful for?\n",
        "*   Is this a suitable classification or regression task? \n",
        "*   How could you get the data?\n"
      ]
    },
    {
      "cell_type": "code",
      "metadata": {
        "id": "sy7CThSkC5mP"
      },
      "source": [
        "# Write down your app idea here"
      ],
      "execution_count": null,
      "outputs": []
    },
    {
      "cell_type": "markdown",
      "metadata": {
        "id": "DNhyJFz47hf3"
      },
      "source": [
        "You can get an inspiration from these Apps:\n",
        "\n",
        "<table>\n",
        "<tr>\n",
        "<td> <img src=\"https://github.com/hiromis/notes/raw/master/lesson3/5.png\"> <br><a href=\"https://forums.fast.ai/t/share-your-work-here/27676/400\">Guitar Classifier</a> by Christian Werner</td><td> <img src=\"https://github.com/hiromis/notes/raw/master/lesson3/6.png\"><br><a href=\"https://forums.fast.ai/t/share-your-work-here/27676/340\">Healthy or Not!</a> by Nikhil Utane </td><td> <img src=\"https://github.com/hiromis/notes/raw/master/lesson3/7.png\"> <br><a href=\"https://forums.fast.ai/t/share-your-work-here/27676/333\">Hummingbird Classifier</a> by Nissan Dookeran</td>\n",
        "</tr><tr>\n",
        "<td> <img src=\"https://github.com/hiromis/notes/raw/master/lesson3/8.png\"> <br><a href=\"https://forums.fast.ai/t/share-your-work-here/27676/409\">Edible Mushroom?</a> by Ramon</td><td> <img src=\"https://github.com/hiromis/notes/raw/master/lesson3/9.png\"><br> <a href=\"https://forums.fast.ai/t/share-your-work-here/27676/387\">Cousin Recognizer</a> by Charlie Harrington</td><td> <img src=\"https://github.com/hiromis/notes/raw/master/lesson3/10.png\"><br> <a href=\"https://forums.fast.ai/t/share-your-work-here/27676/386\">Emotion Classifier</a> by Ethan Sutin and Team 26</td>\n",
        "</tr><tr>\n",
        "<td> <img src=\"https://github.com/hiromis/notes/raw/master/lesson3/11.png\"> <br><a href=\"https://forums.fast.ai/t/share-your-work-here/27676/350\">American Sign Language</a> by Keyur Paralkar</td><td> <img src=\"https://github.com/hiromis/notes/raw/master/lesson3/12.png\"> <br><a href=\"https://forums.fast.ai/t/share-your-work-here/27676/355\">Your City from Space</a> by Henri Palacci</td><td> <img src=\"https://github.com/hiromis/notes/raw/master/lesson3/13.png\"> <br><a href=\"https://forums.fast.ai/t/share-your-work-here/27676/367\">Univariate TS as images using Gramian Angular Field</a> by Ignacio Oguiza</td>\n",
        "</tr><tr>\n",
        "<td> <img src=\"https://github.com/hiromis/notes/raw/master/lesson3/14.png\"> <br><a href=\"https://forums.fast.ai/t/share-your-work-here/27676/348\">Face Expression Recognition</a> by Pierre Guillou</td><td> <img src=\"https://github.com/hiromis/notes/raw/master/lesson3/15.png\"><br><a href=\"https://forums.fast.ai/t/share-your-work-here/27676/352\">Tumor-normal sequencing</a> by Alena Harley</td><td>  </td>\n",
        "</tr><table>"
      ]
    },
    {
      "cell_type": "markdown",
      "metadata": {
        "id": "JcWF9CzcntEb"
      },
      "source": [
        "## Creating your own Dataset\n",
        "\n",
        "Now you need to construct a dataset that allows you to train a model for your app. You learned about how to create a dataset in Lecture 7.\n",
        "\n",
        "Here, you can follow the steps from the lecture or look into the following ressources:\n",
        "\n",
        "*   A [tool](https://github.com/toffebjorkskog/ml-tools/blob/master/gi2ds.md) for excluding irrelevant images from Google Image Search results beforehand by @melonkernel\n",
        "*   See this [post](https://www.christianwerner.net/tech/Build-your-image-dataset-faster/) about an alternative image downloader/cleaner by @cwerner\n",
        "*   Of course, you can use your own data/images :) "
      ]
    },
    {
      "cell_type": "markdown",
      "metadata": {
        "id": "_1Ex4FjsQvdw"
      },
      "source": [
        "### 1. Dowload the data \n",
        "- You may use the helper functions from the lecture to get the image URLs\n",
        "- Create a new folder at your defined `path`\n",
        "- Use `download_image` to download the images into the corresponding (sub-)directories"
      ]
    },
    {
      "cell_type": "code",
      "metadata": {
        "id": "DN1Sfi29tSw6"
      },
      "source": [
        "URL = \"https://bierbasis.de/biere-nach-laendern/deutschland/page/1\""
      ],
      "execution_count": 3,
      "outputs": []
    },
    {
      "cell_type": "code",
      "metadata": {
        "id": "mh4EJxUjtMeG"
      },
      "source": [
        "results = requests.get(URL)\r\n",
        "src = results.content\r\n",
        "soup = BeautifulSoup(src, 'lxml')"
      ],
      "execution_count": 4,
      "outputs": []
    },
    {
      "cell_type": "code",
      "metadata": {
        "id": "TljryLk7P8i6"
      },
      "source": [
        "links = []\r\n",
        "titles = []\r\n",
        "for i in range(1, 25):\r\n",
        "  URL = \"https://bierbasis.de/biere-nach-laendern/deutschland/page/\" + str(i)\r\n",
        "  results = requests.get(URL)\r\n",
        "  src = results.content\r\n",
        "  soup = BeautifulSoup(src, 'lxml')\r\n",
        "  classes = soup.find_all(class_=\"img-responsive col-xs-9\")\r\n",
        "  for j in range(len(classes)):\r\n",
        "    links.append(classes[j]['href'])\r\n",
        "    titles.append(classes[j]['title'])\r\n",
        "\r\n",
        "#soup.find_all(class_=\"img-responsive col-xs-9\")[i]['href']"
      ],
      "execution_count": 16,
      "outputs": []
    },
    {
      "cell_type": "code",
      "metadata": {
        "id": "sxk5IDzZWJ9y",
        "outputId": "631e99a4-e452-4c30-a291-03cb7517bd04",
        "colab": {
          "base_uri": "https://localhost:8080/"
        }
      },
      "source": [
        "len(links)"
      ],
      "execution_count": 17,
      "outputs": [
        {
          "output_type": "execute_result",
          "data": {
            "text/plain": [
              "900"
            ]
          },
          "metadata": {
            "tags": []
          },
          "execution_count": 17
        }
      ]
    },
    {
      "cell_type": "code",
      "metadata": {
        "id": "jfvZGDONVui-",
        "outputId": "773d19ad-a9c8-4caf-fc31-395095a6d329",
        "colab": {
          "base_uri": "https://localhost:8080/"
        }
      },
      "source": [
        "len(titles)"
      ],
      "execution_count": 18,
      "outputs": [
        {
          "output_type": "execute_result",
          "data": {
            "text/plain": [
              "900"
            ]
          },
          "metadata": {
            "tags": []
          },
          "execution_count": 18
        }
      ]
    },
    {
      "cell_type": "code",
      "metadata": {
        "id": "n3dt7gseY6jd"
      },
      "source": [
        "def search_images_ddg(key,max_n=150):\r\n",
        "    \"\"\"Search for 'key' with DuckDuckGo and return a unique urls of 'max_n' images\r\n",
        "    (Adopted from https://github.com/deepanprabhu/duckduckgo-images-api and \r\n",
        "    https://github.com/fastai/fastbook/blob/master/utils.py)\r\n",
        "    \"\"\"\r\n",
        "    url        = 'https://duckduckgo.com/'\r\n",
        "    params     = {'q':key}\r\n",
        "    res        = requests.post(url,data=params)\r\n",
        "    searchObj  = re.search(r'vqd=([\\d-]+)\\&',res.text)\r\n",
        "    if not searchObj: print('Token Parsing Failed !'); return\r\n",
        "    requestUrl = url + 'i.js'\r\n",
        "    headers    = {'User-Agent': 'Mozilla/5.0 (X11; Ubuntu; Linux x86_64; rv:71.0) Gecko/20100101 Firefox/71.0',\r\n",
        "                 'referer': 'https://duckduckgo.com/'}\r\n",
        "    params     = (('l','us-en'),('o','json'),('q',key),('vqd',searchObj.group(1)),('f',',,,'),('p','1'),('v7exp','a'))\r\n",
        "    urls       = []\r\n",
        "    while True:\r\n",
        "        try:\r\n",
        "            res  = requests.get(requestUrl,headers=headers,params=params)\r\n",
        "            data = json.loads(res.text)\r\n",
        "            for obj in data['results']:\r\n",
        "                urls.append(obj['image'])\r\n",
        "                max_n = max_n - 1\r\n",
        "                if max_n < 1: return L(set(urls))     # dedupe\r\n",
        "            if 'next' not in data: return L(set(urls))\r\n",
        "            requestUrl = url + data['next']\r\n",
        "        except:\r\n",
        "            pass"
      ],
      "execution_count": 31,
      "outputs": []
    },
    {
      "cell_type": "code",
      "metadata": {
        "id": "5POfSSGrZOBE",
        "outputId": "c13283eb-7e77-4043-b720-0b165e27b8bd",
        "colab": {
          "base_uri": "https://localhost:8080/",
          "height": 36
        }
      },
      "source": [
        "titles[0]"
      ],
      "execution_count": 22,
      "outputs": [
        {
          "output_type": "execute_result",
          "data": {
            "application/vnd.google.colaboratory.intrinsic+json": {
              "type": "string"
            },
            "text/plain": [
              "'Rothaus Pils Tannenzäpfle'"
            ]
          },
          "metadata": {
            "tags": []
          },
          "execution_count": 22
        }
      ]
    },
    {
      "cell_type": "code",
      "metadata": {
        "id": "L47AdccIZJNF",
        "outputId": "159ed418-0a7c-4bee-952a-157ccd1bbcff",
        "colab": {
          "base_uri": "https://localhost:8080/",
          "height": 36
        }
      },
      "source": [
        "ims = search_images_ddg(titles[0])\r\n",
        "len(ims)"
      ],
      "execution_count": 29,
      "outputs": [
        {
          "output_type": "execute_result",
          "data": {
            "application/vnd.google.colaboratory.intrinsic+json": {
              "type": "string"
            },
            "text/plain": [
              "'http://www.biermap24.de/images/bierlogos-140px-breit/rothauspt.jpg'"
            ]
          },
          "metadata": {
            "tags": []
          },
          "execution_count": 29
        }
      ]
    },
    {
      "cell_type": "code",
      "metadata": {
        "id": "b55dZZULbU6j"
      },
      "source": [
        "for i in range(links):\r\n",
        "  "
      ],
      "execution_count": null,
      "outputs": []
    },
    {
      "cell_type": "code",
      "metadata": {
        "id": "PRNoqk2_bmXQ"
      },
      "source": [
        "# integration with google drive"
      ],
      "execution_count": null,
      "outputs": []
    },
    {
      "cell_type": "code",
      "metadata": {
        "id": "pWPqD-kFatu0",
        "outputId": "ee8ca243-5563-47c9-fabd-0985a72408fd",
        "colab": {
          "base_uri": "https://localhost:8080/"
        }
      },
      "source": [
        "links # vllt für benennung nutzen"
      ],
      "execution_count": 27,
      "outputs": [
        {
          "output_type": "execute_result",
          "data": {
            "text/plain": [
              "['/bier/Rothaus-Pils-Tannenzaepfle',\n",
              " '/bier/Augustiner-Lagerbier-Hell',\n",
              " '/bier/Becks-Pilsner',\n",
              " '/bier/Jever-Pilsener',\n",
              " '/bier/Augustiner-Edelstoff',\n",
              " '/bier/Krombacher-Pils',\n",
              " '/bier/Bitburger-Premium-Pils',\n",
              " '/bier/Tegernseer-Hell',\n",
              " '/bier/Radeberger-Pilsner',\n",
              " '/bier/Flensburger-Pilsener',\n",
              " '/bier/Stoertebeker-Atlantik-Ale',\n",
              " '/bier/Warsteiner-Premium-Verum',\n",
              " '/bier/Erdinger-Weissbier',\n",
              " '/bier/Bayreuther-Hell',\n",
              " '/bier/Hasseroeder-Premium-Pils',\n",
              " '/bier/Koestritzer-Schwarzbier',\n",
              " '/bier/Franziskaner-Hefe-Weissbier-Hell',\n",
              " '/bier/Veltins-Pilsener',\n",
              " '/bier/Aecht-Schlenkerla-Rauchbier-Maerzen',\n",
              " '/bier/Schneider-Weisse-TAP7-Unser-Original',\n",
              " '/bier/Astra-Urtyp',\n",
              " '/bier/Bayreuther-Aktien-Zwickl-Kellerbier',\n",
              " '/bier/Koenig-Pilsener',\n",
              " '/bier/Becks-Gold',\n",
              " '/bier/Grevensteiner-naturtruebes-Landbier',\n",
              " '/bier/Holsten-Pilsener',\n",
              " '/bier/Paulaner-Hefe-Weissbier-Naturtrueb',\n",
              " '/bier/Stoertebeker-Bernstein-Weizen',\n",
              " '/bier/Frueh-Koelsch',\n",
              " '/bier/Wernesgruener-Pils-Legende',\n",
              " '/bier/Dolden-Sud-Bavarian-India-Pale-Ale',\n",
              " '/bier/Chiemseer-Hell',\n",
              " '/bier/Luebzer-Pils',\n",
              " '/bier/Maisels-Weisse-Original-Hefe-Weissbier',\n",
              " '/bier/Stoertebeker-Pilsener',\n",
              " '/bier/Oettinger-Pils',\n",
              " '/bier/Wickueler-Pilsener',\n",
              " '/bier/Allgaeuer-Brauhaus-Bueble-Bier',\n",
              " '/bier/Hacker-Pschorr-Muenchner-Hell',\n",
              " '/bier/Duckstein-Original',\n",
              " '/bier/Sternburg-Export',\n",
              " '/bier/Erdinger-Alkoholfrei',\n",
              " '/bier/Paulaner-Original-Muenchner-Hell',\n",
              " '/bier/Arcobraeu-Mooser-Liesl',\n",
              " '/bier/Weihenstephaner-Hefeweissbier',\n",
              " '/bier/Weltenburger-Barock-Dunkel',\n",
              " '/bier/Stoertebeker-Schwarzbier',\n",
              " '/bier/Desperados',\n",
              " '/bier/Gutmann-Hefeweizen-Hell',\n",
              " '/bier/Schoefferhofer-Hefeweizen-Hell',\n",
              " '/bier/Stoertebeker-Keller-Bier-1402',\n",
              " '/bier/Maisel-Friends-Pale-Ale',\n",
              " '/bier/Scheyrer-Hell',\n",
              " '/bier/Diebels-Alt',\n",
              " '/bier/Loewenbraeu-Original',\n",
              " '/bier/Tegernseer-Spezial',\n",
              " '/bier/Moenchshof-Kellerbier',\n",
              " '/bier/Schneider-Weisse-TAP6-Unser-Aventinus',\n",
              " '/bier/Andechser-Spezial-Hell',\n",
              " '/bier/Gaffel-Koelsch',\n",
              " '/bier/Astra-Rotlicht',\n",
              " '/bier/Stoertebeker-Hanse-Porter',\n",
              " '/bier/Spaten-Muenchner-Hell',\n",
              " '/bier/5-0-Original-Pils',\n",
              " '/bier/Berliner-Pilsner',\n",
              " '/bier/Koenig-Ludwig-Dunkel',\n",
              " '/bier/Stoertebeker-1402-Roggen-Weizen',\n",
              " '/bier/Schneider-Weisse-TAP5-Meine-Hopfenweisse',\n",
              " '/bier/Paulaner-Salvator',\n",
              " '/bier/Kapuziner-Weissbier',\n",
              " '/bier/Paulaner-Oktoberfestbier',\n",
              " '/bier/Warsteiner-Premium-Herb',\n",
              " '/bier/Gruener-Vollbier-Hell',\n",
              " '/bier/Koenig-Ludwig-Weissbier-Hell',\n",
              " '/bier/Reissdorf-Koelsch',\n",
              " '/bier/Jever-Fun',\n",
              " '/bier/Wulle-Vollbier-Hell',\n",
              " '/bier/Zirndorfer-Landbier',\n",
              " '/bier/Koestritzer-Kellerbier',\n",
              " '/bier/Moenchshof-Bayerisch-Hell',\n",
              " '/bier/Ur-Krostitzer-Feinherbes-Pilsner',\n",
              " '/bier/Kulmbacher-Edelherb',\n",
              " '/bier/Riegele-Simco-3',\n",
              " '/bier/Hoevels-Original',\n",
              " '/bier/Waldhaus-Diplom-Pils',\n",
              " '/bier/Loewenbraeu-Oktoberfestbier',\n",
              " '/bier/Andechser-Doppelbock-Dunkel',\n",
              " '/bier/Altenmuenster-Urig-Wuerzig',\n",
              " '/bier/Andechser-Hell',\n",
              " '/bier/Andechser-Weissbier',\n",
              " '/bier/Beck%E2%80%99s-Pale-Ale',\n",
              " '/bier/Ratsherrn-Pale-Ale',\n",
              " '/bier/Crew-Republic-Drunken-Sailor-IPA',\n",
              " '/bier/Loesch-Zwerg-Wuerzig',\n",
              " '/bier/Feldschloesschen-Pilsner',\n",
              " '/bier/Licher-Premium-Pilsner',\n",
              " '/bier/Berliner-Kindl-Jubilaeums-Pilsener',\n",
              " '/bier/Erdinger-Dunkel',\n",
              " '/bier/Ayinger-Lager-Hell',\n",
              " '/bier/Schneider-Weisse-Aventinus-Weizen-Eisbock',\n",
              " '/bier/Muehlen-Koelsch',\n",
              " '/bier/Erdinger-Urweisse',\n",
              " '/bier/Original-Oettinger-Export',\n",
              " '/bier/Weltenburger-Anno-1050',\n",
              " '/bier/Brauerei-Simon-Spezial',\n",
              " '/bier/Neumarkter-Lammsbraeu-Urstoff',\n",
              " '/bier/Hacker-Pschorr-Oktoberfest-Maerzen',\n",
              " '/bier/Moenchshof-Original',\n",
              " '/bier/Hofbraeu-Original',\n",
              " '/bier/Moenchshof-Landbier',\n",
              " '/bier/Augustiner-Weissbier',\n",
              " '/bier/Lausitzer-Porter',\n",
              " '/bier/Freiberger-Pils',\n",
              " '/bier/Unertl-Weissbier',\n",
              " '/bier/Zirndorfer-Kellerbier',\n",
              " '/bier/Hasen-Braeu-Osterfest-Bier',\n",
              " '/bier/Mahrs-Braeu-Ungespundet-Hefetrueb',\n",
              " '/bier/Ratsherrn-Westkuesten-India-Pale-Ale',\n",
              " '/bier/Riedenburger-Dolden-Dark-Porter',\n",
              " '/bier/Stoertebeker-Whiskey-Bier',\n",
              " '/bier/Moenchshof-Maerzen',\n",
              " '/bier/Becks-Green-Lemon',\n",
              " '/bier/Krug-Braeu-Dunkles-Lagerbier',\n",
              " '/bier/Paderborner-Pilsener',\n",
              " '/bier/Krombacher-Weizen',\n",
              " '/bier/Stefans-Indian-Ale',\n",
              " '/bier/Maisel-Friends-Citrilla',\n",
              " '/bier/Augsburger-Herrenpils',\n",
              " '/bier/Noctus-100',\n",
              " '/bier/Brinkhoffs-No-1',\n",
              " '/bier/Schultheiss-Pilsener',\n",
              " '/bier/Franziskaner-Weissbier-Dunkel',\n",
              " '/bier/Crew-Republic-7%3A45-Escalation-Double-IPA',\n",
              " '/bier/Moenchshof-Radler',\n",
              " '/bier/Maisel-Friends-India-Pale-Ale',\n",
              " '/bier/Stiftungsbraeu-Helles-Vollbier',\n",
              " '/bier/Augustus-8',\n",
              " '/bier/Moenchshof-Festbier',\n",
              " '/bier/Marcs-Chocolate-Bock',\n",
              " '/bier/5-0-Original-Export',\n",
              " '/bier/Schwarzer-Abt',\n",
              " '/bier/Tucher-Christkindlesmarkt-Bier',\n",
              " '/bier/Bayreuther-Aktien-Landbier-Fraenkisch-Dunkel',\n",
              " '/bier/Ator-20',\n",
              " '/bier/Hacker-Pschorr-Anno-1417',\n",
              " '/bier/Amaris-50',\n",
              " '/bier/Benediktiner-Hell',\n",
              " '/bier/Stoertebeker-Stark-Bier',\n",
              " '/bier/Weissenoher-Altfraenkisches-Klosterbier',\n",
              " '/bier/Alpirsbacher-Spezial',\n",
              " '/bier/Jeffs-Bavarian-Ale',\n",
              " '/bier/Paulaner-Zwickl-Naturtrueb',\n",
              " '/bier/Hopfenpfluecker-Pils',\n",
              " '/bier/Ayinger-Celebrator',\n",
              " '/bier/Rothaus-Hefeweizen',\n",
              " '/bier/Ayinger-Jahrhundert-Bier',\n",
              " '/bier/Berliner-Kindl-Pils',\n",
              " '/bier/Stoertebeker-Baltik-Lager',\n",
              " '/bier/Hasenbraeu-Augsburger-Original-Naturtruebes-Kellerbier',\n",
              " '/bier/Hofbraeu-Oktoberfestbier',\n",
              " '/bier/Clausthaler-Classic',\n",
              " '/bier/Odin-Trunk',\n",
              " '/bier/Beck%E2%80%99s-Amber-Lager',\n",
              " '/bier/Augustiner-Dunkel',\n",
              " '/bier/Riedenburger-Historisches-Emmerbier',\n",
              " '/bier/Perlenbacher',\n",
              " '/bier/Sion-Koelsch',\n",
              " '/bier/Sebaldus-Weizen-Nuernberg',\n",
              " '/bier/Bitburger-Alkoholfrei-0-0',\n",
              " '/bier/Herforder-Pils',\n",
              " '/bier/Kloster-Scheyern-Export-Dunkel',\n",
              " '/bier/Hopf-Helle-Weisse',\n",
              " '/bier/Floetzinger-Hell',\n",
              " '/bier/Weissenoher-Kloster-Spezial-Klostersud',\n",
              " '/bier/Crew-Roundhouse-Kick',\n",
              " '/bier/Alpirsbacher-Pils',\n",
              " '/bier/Crew-Republic-Foundation-11-German-Pale-Ale',\n",
              " '/bier/Propeller-Nachtflug',\n",
              " '/bier/Neumarkter-Lammsbraeu-Zzzisch-Edelpils',\n",
              " '/bier/Becks-1873-Pils',\n",
              " '/bier/Einbecker-Brauherren-Pils',\n",
              " '/bier/Schlappeseppel-Specialitaet',\n",
              " '/bier/Einbecker-Mai-Ur-Bock',\n",
              " '/bier/Franziskaner-Kellerbier',\n",
              " '/bier/Karlsberg-UrPils',\n",
              " '/bier/Leikeim-Premium',\n",
              " '/bier/Holzar-Bier',\n",
              " '/bier/Meckatzer-Weiss-Gold',\n",
              " '/bier/Rothaus-Eis-Zaepfle',\n",
              " '/bier/Schoenramer-Pils',\n",
              " '/bier/Koestritzer-Pale-Ale',\n",
              " '/bier/Hopfenstopfer-Citra-Ale',\n",
              " '/bier/Erdinger-Pikantus',\n",
              " '/bier/Ratsherrn-Pilsener',\n",
              " '/bier/Bayreuther-Aktien-Original-1857',\n",
              " '/bier/Flensburger-Gold',\n",
              " '/bier/Schneider-Weisse-TAP1',\n",
              " '/bier/Ratsherrn-Rotbier',\n",
              " '/bier/Braufactum-Colonia',\n",
              " '/bier/Propeller-Aufwind',\n",
              " '/bier/Benediktiner-Weissbier-Naturtrueb',\n",
              " '/bier/Spaten-Oktoberfestbier',\n",
              " '/bier/Kuchlbauer-Weisse',\n",
              " '/bier/Original-Sternla-Hell',\n",
              " '/bier/Hansa-Pils',\n",
              " '/bier/Wernesgruener-1436',\n",
              " '/bier/Dithmarscher-Urtyp',\n",
              " '/bier/Schwaben-Braeu-Das-Echte',\n",
              " '/bier/Paulaner-Hefe-Weissbier-Dunkel',\n",
              " '/bier/Camba-Pale-Ale',\n",
              " '/bier/Schneider-Weisse-TAP4-Mein-Gruenes',\n",
              " '/bier/Krombacher-Radler',\n",
              " '/bier/BRLO-Pale-Ale',\n",
              " '/bier/Krombacher-Pils-Alkoholfrei',\n",
              " '/bier/Schoefferhofer-Grapefruit',\n",
              " '/bier/Oettinger-Hefeweissbier',\n",
              " '/bier/Moritz-Fiege-Pils',\n",
              " '/bier/St-Georgen-Braeu-Keller-Bier',\n",
              " '/bier/Becks-Blue-Alkoholfrei',\n",
              " '/bier/Augustiner-Oktoberfestbier',\n",
              " '/bier/Hopfenstopfer-Incredible-Pale-Ale',\n",
              " '/bier/Andechser-Bergbock-Hell',\n",
              " '/bier/Weltenburger-Asam-Bock',\n",
              " '/bier/Noerten-Hardenberger-Pils',\n",
              " '/bier/Braufactum-Palor',\n",
              " '/bier/Ayinger-Braeu-Weisse',\n",
              " '/bier/Astra-Rakete',\n",
              " '/bier/Franziskaner-Weissbier-Alkoholfrei',\n",
              " '/bier/Flensburger-Dunkel',\n",
              " '/bier/Hanscraft-Co-Backbone-Splitter',\n",
              " '/bier/Allgaeuer-Bueble-Bier-Bayrisch-hell',\n",
              " '/bier/Mahrs-Braeu-Hell',\n",
              " '/bier/Insel-Brauerei-Baltic-Ale',\n",
              " '/bier/Kapuziner-Kellerweizen',\n",
              " '/bier/Luebzer-Urkraft',\n",
              " '/bier/Schoenramer-Hell',\n",
              " '/bier/Einbecker-Winter-Bock',\n",
              " '/bier/DAB-Pilsener',\n",
              " '/bier/Haake-Beck-Pils',\n",
              " '/bier/Hasen-Braeu-Hell',\n",
              " '/bier/Meister-Vollbier',\n",
              " '/bier/Flensburger-Edles-Helles-Jubilaeumsbier',\n",
              " '/bier/Koenig-Ludwig-Hell',\n",
              " '/bier/Astra-Arschkalt',\n",
              " '/bier/Huber-Weisses-Original',\n",
              " '/bier/Bayerisch-Nizza-Clubbier',\n",
              " '/bier/Erdinger-Kristall',\n",
              " '/bier/Turmbraeu-Premium-Pils',\n",
              " '/bier/Crew-Republic-Detox',\n",
              " '/bier/Maria-Ehrenberger-Pilgerstoff',\n",
              " '/bier/Moenchshof-Bockbier',\n",
              " '/bier/Bayreuther-Hefe-Weissbier',\n",
              " '/bier/Franziskaner-Royal',\n",
              " '/bier/Jacob-Weissbier',\n",
              " '/bier/Weissenoher-Glocken-Hell',\n",
              " '/bier/Koestritzer-Witbier',\n",
              " '/bier/Camba-Bavaria-Hop-Gun',\n",
              " '/bier/Zischke-Kellerbier-Original',\n",
              " '/bier/Weihenstephaner-Original-Helles',\n",
              " '/bier/Stuttgarter-Hofbraeu-Pilsner',\n",
              " '/bier/Doppelhirsch-Allgaeuer-Doppelbock',\n",
              " '/bier/Fuerstenberg-Premium-Pilsener',\n",
              " '/bier/Robustus-6',\n",
              " '/bier/Riegele-Kellerbier',\n",
              " '/bier/Dithmarscher-Pilsener',\n",
              " '/bier/Becks-Red-Ale',\n",
              " '/bier/Auris-19',\n",
              " '/bier/Erdinger-Schneeweisse',\n",
              " '/bier/Leikeim-Landbier',\n",
              " '/bier/Moenchshof-Schwarzbier',\n",
              " '/bier/Sternburg-Pilsener',\n",
              " '/bier/Andechser-Dunkel',\n",
              " '/bier/Winkler-Kupfer-Spezial',\n",
              " '/bier/Hofbraeu-Muenchen-Helles-Vollbier',\n",
              " '/bier/Altenmuenster-Hopfig-Herb',\n",
              " '/bier/Steam-Brew-German-Red',\n",
              " '/bier/Leikeim-Steinbier',\n",
              " '/bier/Huppendorfer-Vollbier',\n",
              " '/bier/Gilden-Koelsch',\n",
              " '/bier/Krombacher-Naturtruebes-Kellerbier',\n",
              " '/bier/Hofbraeu-Muenchner-Sommer-Naturtrueb',\n",
              " '/bier/Aecht-Schlenkerla-Rauchbier-Helles-Lager',\n",
              " '/bier/Camba-Amber-Ale',\n",
              " '/bier/Neumarkter-Lammsbraeu-Weisse',\n",
              " '/bier/Frankenheim-Alt',\n",
              " '/bier/Altenmuenster-Winterbier',\n",
              " '/bier/Krombacher-Dunkel',\n",
              " '/bier/Moenchshof-Lager',\n",
              " '/bier/Koestritzer-Red-Lager',\n",
              " '/bier/Schwarzer-Steiger',\n",
              " '/bier/Waldhaus-Ohne-Filter',\n",
              " '/bier/Fuechschen-Alt',\n",
              " '/bier/Hofbraeu-Maibock',\n",
              " '/bier/Uerige-Alt',\n",
              " '/bier/Held-Helles-Bier',\n",
              " '/bier/Becks-Ice-Lime-Mint',\n",
              " '/bier/Steam-Brew-Imperial-IPA',\n",
              " '/bier/Welde-Bourbon-Barrel-Bock',\n",
              " '/bier/Landskron-Premium-Pilsner',\n",
              " '/bier/Eibauer-Schwarzbier',\n",
              " '/bier/Commerzienrat-Riegele-Privat',\n",
              " '/bier/Crew-Republic-Munich-Easy',\n",
              " '/bier/Altenburger-Premium',\n",
              " '/bier/Holsten-Edel',\n",
              " '/bier/M-nchshof-Zoigl-Naturtr-b',\n",
              " '/bier/Paulaner-Hefe-Weissbier-Alkoholfrei',\n",
              " '/bier/Allgaeuer-Bueble-Bier-Edelweissbier',\n",
              " '/bier/Alpenstoff',\n",
              " '/bier/Tucher-Pilsener',\n",
              " '/bier/Meckatzer-Hell',\n",
              " '/bier/Ratskrone-Pilsener',\n",
              " '/bier/Pilsator',\n",
              " '/bier/Eichbaum-Ureich-Premium-Pils',\n",
              " '/bier/Vitamalz',\n",
              " '/bier/Landskron-Pupen-Schultzes-Schwarzes',\n",
              " '/bier/Boelkstoff',\n",
              " '/bier/Leikeim-Kellerbier',\n",
              " '/bier/The-Brale',\n",
              " '/bier/Welde-Badisch-Gose',\n",
              " '/bier/Chiemseer-Braustoff',\n",
              " '/bier/Scheyrer-Weissbier',\n",
              " '/bier/Peters-Koelsch',\n",
              " '/bier/Vier-Vogel-Pils',\n",
              " '/bier/Karg-Weissbier-Hell',\n",
              " '/bier/Brauerei-Simon-Hell',\n",
              " '/bier/Duckstein-Weizen-Cuvee',\n",
              " '/bier/Schoenramer-Imperial-Stout',\n",
              " '/bier/Krombacher-Weizen-Alkoholfrei',\n",
              " '/bier/Schanzenbraeu-Rot',\n",
              " '/bier/Warsteiner-Weihnachtsbier',\n",
              " '/bier/Bamberger-Herren-Pils',\n",
              " '/bier/Hohenthanner-Tannen-Hell',\n",
              " '/bier/Prototyp',\n",
              " '/bier/Insel-Brauerei-Insel-Saison',\n",
              " '/bier/Lederer-Premium-Pils',\n",
              " '/bier/Clausthaler-Extra-Herb',\n",
              " '/bier/Mahn-Ohlerich',\n",
              " '/bier/Richard-Wagner-Dunkel',\n",
              " '/bier/Tucher-Helles-Hefe-Weizen',\n",
              " '/bier/Original-Schluessel-Alt',\n",
              " '/bier/Astra-Alsterwasser',\n",
              " '/bier/Insel-Brauerei-Baltic-Stout',\n",
              " '/bier/Steam-Brew-Imperial-Stout',\n",
              " '/bier/Apoldaer-Pils-Spezial-Domi',\n",
              " '/bier/Krombacher-Hell',\n",
              " '/bier/Crew-Republic-In-Your-Face-West-Coast-IPA',\n",
              " '/bier/Pinkus-Special',\n",
              " '/bier/Sternquell-Pils',\n",
              " '/bier/Held-Dunkles-Bauernbier',\n",
              " '/bier/Kirsch-Porter',\n",
              " '/bier/Potts-Landbier-Dunkel',\n",
              " '/bier/Spezial-Rauchbier',\n",
              " '/bier/Weltenburger-Winter-Traum',\n",
              " '/bier/Sachsengold-Landbier',\n",
              " '/bier/Schloesser-Alt',\n",
              " '/bier/Maisel-Friends-Choco-Porter',\n",
              " '/bier/Kuchlbauer-Alte-Liebe',\n",
              " '/bier/Einbecker-Ur-Bock-Dunkel',\n",
              " '/bier/Veldensteiner-Rotbier',\n",
              " '/bier/Wagner-Maerzen',\n",
              " '/bier/Weihenstephaner-Vitus',\n",
              " '/bier/Wagner-Pils',\n",
              " '/bier/Stoertebeker-Arktik-Ale',\n",
              " '/bier/Schneider-Weisse-TAP3-Mein-Alkoholfreies',\n",
              " '/bier/Stralsunder-Pils',\n",
              " '/bier/Wuerzburger-Hofbraeu-Pilsner',\n",
              " '/bier/Hasseroeder-Fuerstenbraeu-Granat',\n",
              " '/bier/Mashsee-TrainingsLager',\n",
              " '/bier/Schlappeseppel-Kellerbier',\n",
              " '/bier/Insel-Brauerei-Insel-Kreide',\n",
              " '/bier/Edelhopfen-Extra-Pilsner-Premium',\n",
              " '/bier/Hacker-Pschorr-Hefe-Weisse',\n",
              " '/bier/Gessner-Premium-Pils',\n",
              " '/bier/Barre-Pilsener',\n",
              " '/bier/Nothelfer-Trunk-Dunkel',\n",
              " '/bier/Dulcis-12',\n",
              " '/bier/BRLO-Porter',\n",
              " '/bier/Insel-Brauerei-Baltic-Dubbel',\n",
              " '/bier/Boltens-Alt',\n",
              " '/bier/Alpirsbacher-Klosterstoff-Maerzenbier',\n",
              " '/bier/Hopfenstopfer-Comet-IPA',\n",
              " '/bier/Camba-Imperial-Black-IPA',\n",
              " '/bier/Gessner-Original-Festbier',\n",
              " '/bier/Warsteiner-Premium-Alkoholfrei',\n",
              " '/bier/Oettinger-Vollbier-Hell',\n",
              " '/bier/Bitburger-Premium-Kellerbier',\n",
              " '/bier/Engel-Keller-Hell-Naturtrueb',\n",
              " '/bier/Stoertebeker-Gluehbier',\n",
              " '/bier/Brauerei-Simon-Weissbier',\n",
              " '/bier/Braufactum-Progusta',\n",
              " '/bier/Engel-Aloisius',\n",
              " '/bier/Moenchshof-Original-Naturtrueb-Alkoholfrei',\n",
              " '/bier/Weltenburger-Hefe-Weissbier-Hell',\n",
              " '/bier/Berliner-Kindl-Weisse',\n",
              " '/bier/Koestritzer-Edel-Pils',\n",
              " '/bier/Neumarkter-Lammsbraeu-Pilsner',\n",
              " '/bier/Pyraser-Rotbier',\n",
              " '/bier/Gold-Ochsen-Original',\n",
              " '/bier/Tucher-Original-N-rnberger-Rotbier',\n",
              " '/bier/Stoertebeker-Nordic-Porter',\n",
              " '/bier/Rittmayer-Landbier',\n",
              " '/bier/Berliner-Berg-Pale-Ale',\n",
              " '/bier/Dom-Koelsch',\n",
              " '/bier/Hasseroeder-Premium-Export',\n",
              " '/bier/Ratsherrn-Matrosenschluck',\n",
              " '/bier/Welde-Kurpfalz-Hell',\n",
              " '/bier/Braumanufaktur-Potsdamer-Stange',\n",
              " '/bier/Stoertebeker-Frei-Bier',\n",
              " '/bier/Maisel-Friends-Hoppy-Hell',\n",
              " '/bier/Oettinger-Kellerbier',\n",
              " '/bier/Koenig-Ludwig-Weissbier-Dunkel',\n",
              " '/bier/Ratsherrn-Lager',\n",
              " '/bier/Recken-Kellerbier',\n",
              " '/bier/Weiherer-Keller',\n",
              " '/bier/Oettinger-Alkoholfrei',\n",
              " '/bier/5-0-Original-Weizen',\n",
              " '/bier/Hopfmeister-Franz-Josef',\n",
              " '/bier/Binding-Roemer-Pils',\n",
              " '/bier/Schoenramer-Gruenhopfen-Pils',\n",
              " '/bier/Franken-Braeu-Pilsener',\n",
              " '/bier/Tucher-Original-Urbraeu',\n",
              " '/bier/Schloss-Pilsner',\n",
              " '/bier/Engel-Keller-Dunkel-Naturtrueb',\n",
              " '/bier/Rostocker-Pilsener',\n",
              " '/bier/Neumarkter-Lammsbraeu-Alkoholfrei',\n",
              " '/bier/Schoenramer-India-Pale-Ale',\n",
              " '/bier/Schinner-Urstoff',\n",
              " '/bier/Stauder-Premium-Pils',\n",
              " '/bier/Th-Koenig-Brauwerke-Zwickl',\n",
              " '/bier/Altenmuenster-Maibock',\n",
              " '/bier/Hopfmeister-Surfers-Ale',\n",
              " '/bier/Riegele-Sierra-Nevada-Bayerisch-Ale-2',\n",
              " '/bier/Gutmann-Weizenbock',\n",
              " '/bier/Fuerst-Wallerstein-Zwickel',\n",
              " '/bier/Kaiser-Heinrich-Urstoff',\n",
              " '/bier/Riegele-Feines-Urhell',\n",
              " '/bier/Grevensteiner-Westf-lisch-Hell',\n",
              " '/bier/Falkenfelser-Premium-Pils',\n",
              " '/bier/Insel-Brauerei-Insel-Kap',\n",
              " '/bier/Maxlrainer-Maxl-Helles',\n",
              " '/bier/Weltenburger-Barock-Hell',\n",
              " '/bier/Weiherer-Rauch',\n",
              " '/bier/Freibergisch-1863',\n",
              " '/bier/Jever-Light',\n",
              " '/bier/Ur-Saalfelder',\n",
              " '/bier/Kuchlbauer-Turmweisse',\n",
              " '/bier/Gaffels-Sonnenhopfen',\n",
              " '/bier/Hachenburger-Pils',\n",
              " '/bier/Braufactum-Darkon',\n",
              " '/bier/Weihenstephaner-Hefeweissbier-Dunkel',\n",
              " '/bier/Irseer-Kloster-Urtrunk',\n",
              " '/bier/Ayinger-Ur-Weisse',\n",
              " '/bier/Weltenburger-Urtyp-Hell',\n",
              " '/bier/Leikeim-Wintertraum',\n",
              " '/bier/Krombacher-Naturtruebes-Dunkel',\n",
              " '/bier/BRLO-German-IPA',\n",
              " '/bier/Schumacher-Alt',\n",
              " '/bier/Burgkrone-Premium-Pilsener',\n",
              " '/bier/Flensburger-Winterbock',\n",
              " '/bier/Floetzinger-1543-Hefeweizen',\n",
              " '/bier/Gampertbraeu-Foerster-Pils',\n",
              " '/bier/Zoetler-Gold',\n",
              " '/bier/Schwaben-Braeu-Das-Helle',\n",
              " '/bier/Rittmayer-Haustrunk',\n",
              " '/bier/Alpirsbacher-Kleiner-Moench',\n",
              " '/bier/Spalter-Helles-Vollbier',\n",
              " '/bier/Einbecker-Pilsener',\n",
              " '/bier/Kaeuzle-Urhell',\n",
              " '/bier/Stoertebeker-Eis-Lager',\n",
              " '/bier/Karlsberg-Mixery-Cola',\n",
              " '/bier/Untergiesinger-Erhellung',\n",
              " '/bier/Paeffgen-Koelsch',\n",
              " '/bier/Oettinger-Radler',\n",
              " '/bier/Faessla-Zwergla',\n",
              " '/bier/Stoertebeker-Polar-Weizen',\n",
              " '/bier/Aecht-Schlenkerla-Rauchbier-Urbock',\n",
              " '/bier/Oettinger-Winterbier',\n",
              " '/bier/Alpirsbacher-Weizen-Hefe-Hell',\n",
              " '/bier/Insel-Brauerei-Insel-Herb',\n",
              " '/bier/Krug-Braeu-Ur-Stoff',\n",
              " '/bier/Wagner-Lagerbier',\n",
              " '/bier/Maxlrainer-Helles',\n",
              " '/bier/Astra-Pilsener',\n",
              " '/bier/Sternquell-Buergerbraeu',\n",
              " '/bier/EKU-Pils',\n",
              " '/bier/St-ERHARD',\n",
              " '/bier/Camba-Imperial-IPA',\n",
              " '/bier/Oberdorfer-Helles',\n",
              " '/bier/Fendt-Dieselross-Oel',\n",
              " '/bier/Riedenburger-Viva-Bavaria',\n",
              " '/bier/Maisels-Weisse-Alkoholfrei',\n",
              " '/bier/Rother-Braeu-Oeko-Urtrunk',\n",
              " '/bier/Weissenoher-Bonator',\n",
              " '/bier/Kueppers-Koelsch',\n",
              " '/bier/Gutmann-Hefeweizen-Dunkel',\n",
              " '/bier/Schoefferhofer-Hefeweizen-Alkoholfrei',\n",
              " '/bier/Brauerei-Simon-Schwarze-Kuni',\n",
              " '/bier/Tilmans-Das-Helle',\n",
              " '/bier/Franziskaner-Weissbier-Kristallklar',\n",
              " '/bier/Falkenfelser-Premium-Export',\n",
              " '/bier/Aecht-Schlenkerla-Rauchbier-Eiche',\n",
              " '/bier/Paulaner-Weissbier-Zitrone-Alkoholfrei',\n",
              " '/bier/Aecht-Schlenkerla-Rauchbier-Weizen',\n",
              " '/bier/Dithmarscher-Dunkel',\n",
              " '/bier/Scherdel-Zoigl',\n",
              " '/bier/Neumarkter-Lammsbraeu-Dinkel',\n",
              " '/bier/Oettinger-Bock',\n",
              " '/bier/Waldhaus-Schwarzwald-Weisse',\n",
              " '/bier/Stierbier-Premium-Pilsener',\n",
              " '/bier/Stara-Cervisia-Superior',\n",
              " '/bier/St-rtebeker-bersee-Pils',\n",
              " '/bier/Welde-Citra-Helles',\n",
              " '/bier/Obaladara',\n",
              " '/bier/Wirts-Madl',\n",
              " '/bier/Franziskaner-Royal-Jahrgangsweissbier-Edition-2',\n",
              " '/bier/Braumanufaktur-Hell',\n",
              " '/bier/Schwaben-Braeu-Das-Schwarze',\n",
              " '/bier/Pfungstaedter-Edel-Pils-Premium',\n",
              " '/bier/Paulaner-Weissbier-Kristallklar',\n",
              " '/bier/Keiler-Weissbier-Hell',\n",
              " '/bier/Riedenburger-Ur-Helles',\n",
              " '/bier/Duff-Beer',\n",
              " '/bier/Hopper-Braeu-Amerikanischer-Traum',\n",
              " '/bier/Zoetler-Bayerisch-Hell',\n",
              " '/bier/Sester-Koelsch',\n",
              " '/bier/Craftwerk-Hop-Head-IPA%E2%81%B7',\n",
              " '/bier/Flensburger-Fruehlingsbock',\n",
              " '/bier/Faessla-Lagerbier',\n",
              " '/bier/Braufactum-Soleya-Saison',\n",
              " '/bier/Allgaeuer-Huettenbier',\n",
              " '/bier/Augustiner-Pils',\n",
              " '/bier/Spalter-Premium-Pils',\n",
              " '/bier/Augustiner-Maximator',\n",
              " '/bier/Himburgs-Braukunstkeller-Amarsi',\n",
              " '/bier/Paderborner-Pilger',\n",
              " '/bier/Zwoenitzer-IPA',\n",
              " '/bier/Schoefferhofer-Hefeweizen-Dunkel',\n",
              " '/bier/Oettinger-Urtyp',\n",
              " '/bier/Wolfscraft-Das-Helle',\n",
              " '/bier/Landskron-Hell',\n",
              " '/bier/Hopfmeister-Gipfelglueck',\n",
              " '/bier/Gold-Ochsen-Kellerbier',\n",
              " '/bier/Weltenburger-Kloster-Kellerbier-Naturtrueb',\n",
              " '/bier/Zwoenitzer-Rauchbier',\n",
              " '/bier/Ulrichsbier',\n",
              " '/bier/Berliner-Kindl-Weisse-Waldmeister',\n",
              " '/bier/Huebner-Vollbier',\n",
              " '/bier/Weiherer-Bock',\n",
              " '/bier/Turmblaeser-Landbier',\n",
              " '/bier/Dortmunder-Union-Export',\n",
              " '/bier/Braufactum-Marzus',\n",
              " '/bier/Oettinger-Dunkles-Hefeweissbier',\n",
              " '/bier/Weiherer-Urstoeffla',\n",
              " '/bier/Alpirsbacher-Kloster-Zwickel',\n",
              " '/bier/Hacker-Pschorr-Animator',\n",
              " '/bier/Zoetler-Hefeweizen-Hell',\n",
              " '/bier/Eibauer-Zwickl',\n",
              " '/bier/Veltins-V-Curuba',\n",
              " '/bier/Falkenfelser-Premium-Weissbier-Hell',\n",
              " '/bier/Meissner-Schwerter-Privat-Pils',\n",
              " '/bier/Gersdorfer-Ale',\n",
              " '/bier/Wolters-Pilsener-Premium',\n",
              " '/bier/Bayreuther-Bio-Weisse',\n",
              " '/bier/Lindenbraeu-Pilsner',\n",
              " '/bier/Herrenhaeuser-Premium-Pilsener',\n",
              " '/bier/Potsdamer-Rex-Pils',\n",
              " '/bier/Hansa-Export',\n",
              " '/bier/2-5-Original-Lemon',\n",
              " '/bier/Landskron-Kellerbier',\n",
              " '/bier/Oettinger-Weissbier-Alkoholfrei',\n",
              " '/bier/Schanzenbraeu-Hell',\n",
              " '/bier/Hasseroeder-Schwarz',\n",
              " '/bier/Schoefferhofer-Kaktusfeige',\n",
              " '/bier/Erdinger-Sommerweisse',\n",
              " '/bier/Berliner-Berg-Lager',\n",
              " '/bier/Tucher-Bajuvator-Doppelbock',\n",
              " '/bier/Westerwald-Braeu',\n",
              " '/bier/Hofmann-Helles-Landbier',\n",
              " '/bier/Kloster-Scheyern-Poculator',\n",
              " '/bier/Hofbr-u-Winterzwickl',\n",
              " '/bier/Suenner-Koelsch',\n",
              " '/bier/Schinner-Premium-Kellerbier',\n",
              " '/bier/Kehrwieder-ue-NN',\n",
              " '/bier/Lemke-030-Berlin-Pale-Ale',\n",
              " '/bier/Maisels-Weisse-Kristall',\n",
              " '/bier/Schoefferhofer-Kristallweizen',\n",
              " '/bier/Max-I-Joseph',\n",
              " '/bier/Weiherer-Lager',\n",
              " '/bier/Schussenrieder-Original-N-1',\n",
              " '/bier/Welde-No1',\n",
              " '/bier/Franken-Braeu-Festbier',\n",
              " '/bier/Schoppe-XPA',\n",
              " '/bier/Hofbraeu-Muenchner-Weisse',\n",
              " '/bier/Schoppe-Holy-Shit',\n",
              " '/bier/Bosch-Braunbier',\n",
              " '/bier/LaBieratorium-F60-Paranoid-IPA',\n",
              " '/bier/Aufsesser-Zwickl',\n",
              " '/bier/Landskron-Festbier-Winterhopfen',\n",
              " '/bier/Luebzer-Schwarzbier',\n",
              " '/bier/Schoenramer-Bayerisch-Pale-Ale',\n",
              " '/bier/Warsteiner-Braumeister',\n",
              " '/bier/Bitburger-Winterbock',\n",
              " '/bier/Unertl-Ursud',\n",
              " '/bier/Original-Ritterguts-Gose',\n",
              " '/bier/Tegernseer-Dunkel-Export',\n",
              " '/bier/Duckstein-Opal-Pilsener-Grand-Cru',\n",
              " '/bier/Riedenburger-Dolden-Bock',\n",
              " '/bier/Goeller-Brotzeit-Seidla',\n",
              " '/bier/Hallertauer-Hopfen-Cuvee',\n",
              " '/bier/Einbecker-Ur-Bock-Hell',\n",
              " '/bier/Schlappeseppel-Weissbier',\n",
              " '/bier/Pyraser-Jubeltrunk-Altfraenkisch',\n",
              " '/bier/Flensburger-Kellerbier',\n",
              " '/bier/Braufactum-Indra',\n",
              " '/bier/Oettinger-Schwarzbier',\n",
              " '/bier/Hopper-Br-u-Landgang',\n",
              " '/bier/Floetzinger-Maerzen',\n",
              " '/bier/Gessner-Dunkler-Bock',\n",
              " '/bier/Oettinger-Malz',\n",
              " '/bier/Waldhaus-Ohne-Filter-Extraherb',\n",
              " '/bier/Hofbraeuhaus-Traunstein-Helles',\n",
              " '/bier/Ur-Krostitzer-Schwarzes',\n",
              " '/bier/Hellers-Koelsch',\n",
              " '/bier/Einsiedler-Landbier',\n",
              " '/bier/Warsteiner-Brewers-Gold',\n",
              " '/bier/Hemelinger-Spezial',\n",
              " '/bier/Black-Nizza',\n",
              " '/bier/Pyraser-6-Korn-Bier',\n",
              " '/bier/Benediktiner-Weissbier-Alkoholfrei',\n",
              " '/bier/Craftwerk-Holy-Cowl',\n",
              " '/bier/Luther-Reformations-Pils',\n",
              " '/bier/Weihenstephaner-1516-Kellerbier-Naturtrueb',\n",
              " '/bier/Schreckenskammer-Koelsch',\n",
              " '/bier/Luebzer-Export',\n",
              " '/bier/Borbecker-Helles-Dampfbier',\n",
              " '/bier/Holsten-Bernstein-Lager',\n",
              " '/bier/Unertl-Bio-Dinkel-Weisse',\n",
              " '/bier/Braufactum-Clan',\n",
              " '/bier/Scherdel-Premium-Pilsner',\n",
              " '/bier/Maxlrainer-Zwickl-Max',\n",
              " '/bier/Bosch-Porter',\n",
              " '/bier/Licher-Original-1854-Natutrueb',\n",
              " '/bier/Wolfscraft-Frisch-Pils',\n",
              " '/bier/Rittmayer-Kellerbier',\n",
              " '/bier/Hopfmeister-The-Irish-Road-Trip',\n",
              " '/bier/Eber-Pils',\n",
              " '/bier/Ratskrone-Export',\n",
              " '/bier/Warsteiner-Premium-Radler-Zitrone',\n",
              " '/bier/Andechser-Weissbier-Dunkel',\n",
              " '/bier/Lemke-IPA',\n",
              " '/bier/Distelhaeuser-Pils',\n",
              " '/bier/Potts-Pilsener',\n",
              " '/bier/Erdbeer-Porter',\n",
              " '/bier/Luebzer-Grapefruit',\n",
              " '/bier/Riedenburger-Dolden-Sommer-Sud',\n",
              " '/bier/Karamalz-Malztrunk-Classic',\n",
              " '/bier/Camba-4-Sessions-Session-Pale-Ale',\n",
              " '/bier/Hacker-Pschorr-Superior',\n",
              " '/bier/Alpirsbacher-Kloster-Starkbier',\n",
              " '/bier/Neumarkter-Lammsbraeu-Winterfestbier',\n",
              " '/bier/Gessner-Alt-Sumbarcher',\n",
              " '/bier/Neumarkter-Lammsbraeu-Weisse-Alkoholfrei',\n",
              " '/bier/Mashsee-Beverly-Pils',\n",
              " '/bier/Engel-Gold',\n",
              " '/bier/Fuerst-Wallerstein-Landsknechtbier',\n",
              " '/bier/Detmolder-Pilsener',\n",
              " '/bier/Berliner-Kindl-Weisse-Himbeere',\n",
              " '/bier/Licher-Export',\n",
              " '/bier/Pionier-Pilsener-Glutenfrei',\n",
              " '/bier/Apoldaer-Glocken-Hell',\n",
              " '/bier/Eichhofener-Helles',\n",
              " '/bier/Faust-Kraeusen',\n",
              " '/bier/Neumarkter-Lammsbraeu-EdelHell',\n",
              " '/bier/Nankendorfer-Landbier',\n",
              " '/bier/Veldensteiner-Landbier',\n",
              " '/bier/Einbecker-Ainpoeckisch-Bier-1378',\n",
              " '/bier/Hetzelsdorfer-Vollbier',\n",
              " '/bier/Riegele-Aechtes-Dunkel',\n",
              " '/bier/Thuisbrunner-Elch-Braeu-Pils-Naturbelassen',\n",
              " '/bier/Stoertebeker-Bernstein-Weizen-Alkoholfrei',\n",
              " '/bier/Warsteiner-Herb-Alkoholfrei',\n",
              " '/bier/Fidelio',\n",
              " '/bier/Pyraser-Angerwirts-Weizen',\n",
              " '/bier/Faessla-Gold-Pils',\n",
              " '/bier/Vulkan-Pale-Ale',\n",
              " '/bier/Kuchlbauer-Helles-Bier',\n",
              " '/bier/Gatz-Altbier',\n",
              " '/bier/Gose',\n",
              " '/bier/Karmeliten-Kloster-Gold',\n",
              " '/bier/Bosch-Pils',\n",
              " '/bier/Keiler-Weissbier-Dunkel',\n",
              " '/bier/Rothaus-Maerzen-Export',\n",
              " '/bier/Stoertebeker-Strand-Raeuber-Sanddorn',\n",
              " '/bier/Becks-Lime',\n",
              " '/bier/Loewenbraeu-Triumphator',\n",
              " '/bier/Stralsunder-Lager',\n",
              " '/bier/Alpirsbacher-Kloster-Dunkel',\n",
              " '/bier/Veldensteiner-Vollbier-Hell',\n",
              " '/bier/Krombacher-Radler-Alkoholfrei',\n",
              " '/bier/Veldensteiner-Bavaria-Mandarina-Sommerweisse',\n",
              " '/bier/Wildbraeu-Meistersud',\n",
              " '/bier/Hetzel-Frauendorfer-Vollbier',\n",
              " '/bier/Holsten-Export',\n",
              " '/bier/Mahrs-Braeu-ETA',\n",
              " '/bier/Hannen-Alt',\n",
              " '/bier/Welde-Braumanufaktur-Himburgs-Braukunstkeller-Pepper-Pils',\n",
              " '/bier/ACDC-Beer',\n",
              " '/bier/Weissenoher-Classic-Export',\n",
              " '/bier/Eibauer-Lausitzer-Dunkel',\n",
              " '/bier/Schoppe-Flower-Power-Session-IPA',\n",
              " '/bier/Bitburger-Radler',\n",
              " '/bier/Leikeim-Pils',\n",
              " '/bier/Maisels-Weisse-Dunkel',\n",
              " '/bier/Rittmayer-Bitter-42',\n",
              " '/bier/Haerle-Hell',\n",
              " '/bier/Dampfbier',\n",
              " '/bier/Gilde-Ratskeller',\n",
              " '/bier/Camba-Dettl-Love-Beer',\n",
              " '/bier/Camba-IPA',\n",
              " '/bier/Pyraser-Kellerbier',\n",
              " '/bier/Zeltner-Vollbier-Hell',\n",
              " '/bier/Hohenthanner-Blau-Weisse',\n",
              " '/bier/Holsten-Alkoholfrei',\n",
              " '/bier/Freibergisch-Exportbier',\n",
              " '/bier/Laguna-IPA',\n",
              " '/bier/Dinkelacker-CD-Pils',\n",
              " '/bier/Braufactum-Roog',\n",
              " '/bier/Camba-Black-Lager',\n",
              " '/bier/Gilde-Pilsener',\n",
              " '/bier/Lindenbraeu-Vollbier',\n",
              " '/bier/Michala',\n",
              " '/bier/Grevensteiner-Ur-Radler',\n",
              " '/bier/Berliner-Berg-California-Wheat',\n",
              " '/bier/Perlenbacher-Premium-Pils',\n",
              " '/bier/Alpirsbacher-Kloster-Helles',\n",
              " '/bier/Patronus-Premium-Weissbier',\n",
              " '/bier/Dortmunder-Kronen-Pilsener',\n",
              " '/bier/Loewenbraeu-Alkoholfrei',\n",
              " '/bier/Hummel-Braeu-Pils',\n",
              " '/bier/Koestritzer-Spezial-Pils',\n",
              " '/bier/Herrnbraeu-Tradition',\n",
              " '/bier/Amarsi-IPA',\n",
              " '/bier/Rosenbrauerei-Pils',\n",
              " '/bier/Allgaeuer-Brauhaus-Original',\n",
              " '/bier/Feldschloesschen-Export',\n",
              " '/bier/Weiherer-Landbier',\n",
              " '/bier/Klosterbrauerei-Metzingen-Kloster-Landbier',\n",
              " '/bier/Schmucker-Meister-Pils',\n",
              " '/bier/Duckstein-Braumeister-Edition-No-8-Saphir-Kellerbier-Grand-Cru',\n",
              " '/bier/Hirsch-Hefe-Weisse',\n",
              " '/bier/Berliner-Buergerbraeu-Rotkehlchen',\n",
              " '/bier/Sanwald-Hefeweizen',\n",
              " '/bier/Hoepfner-Pilsner',\n",
              " '/bier/Schmucker-Ros%C3%A9-Bock',\n",
              " '/bier/Schlappeseppel-Pils',\n",
              " '/bier/Rosenheimer-Helles',\n",
              " '/bier/Watzdorfer-Landbier',\n",
              " '/bier/Veldensteiner-Saphir-Bock',\n",
              " '/bier/Rothaus-Alkoholfrei-Zaepfle',\n",
              " '/bier/Insel-Brauerei-Baltic-Tripel',\n",
              " '/bier/Kesselring-Urfraenkisches-Landbier',\n",
              " '/bier/Faust-Pils',\n",
              " '/bier/Hasseroeder-Vier',\n",
              " '/bier/Saalfelder-Jubilaeumsbier',\n",
              " '/bier/Weissenoher-Bonifatius-Dunkel',\n",
              " '/bier/Neumarkter-Lammsbraeu-Dunkel',\n",
              " '/bier/Mauritius-Bock-Dunkel',\n",
              " '/bier/Fat-Rhino-2018',\n",
              " '/bier/Welde-Hop-Stuff-Ella-Equinox',\n",
              " '/bier/BRLO-Berliner-Weisse',\n",
              " '/bier/Wasseralfinger-Spezial',\n",
              " '/bier/Fiege-Bernstein',\n",
              " '/bier/Gruenbacher-Altweizen-Gold',\n",
              " '/bier/Veltins-Helles-P-lleken',\n",
              " '/bier/Engel-Hefeweizen-Hell',\n",
              " '/bier/Rothaus-Schwarzwald-Maidle',\n",
              " '/bier/Sternburg-Radler',\n",
              " '/bier/Munich-Summer',\n",
              " '/bier/Hanscraft-Co-Single-Hop-Kellerpils-Hallertauer-Blanc',\n",
              " '/bier/Binding-Export',\n",
              " '/bier/BRLO-Helles',\n",
              " '/bier/Pyraser-Gutsherrn-Pils',\n",
              " '/bier/Schinner-Premium-Edel-Pils',\n",
              " '/bier/Hofbraeu-Festbier',\n",
              " '/bier/Feldschloesschen-Urbock',\n",
              " '/bier/Retter-Premium-Hell',\n",
              " '/bier/Fuerst-Wallerstein-Hell',\n",
              " '/bier/Duff-Beer-Beverage',\n",
              " '/bier/Neumarkter-Lammsbraeu-Dunkle-Weisse-Alkoholfrei',\n",
              " '/bier/Glueckauf-Pilsener',\n",
              " '/bier/Hummel-Braeu-Kellerbier',\n",
              " '/bier/Schoppe-Black-Flag',\n",
              " '/bier/Glueckauf-Bock-Dunkel',\n",
              " '/bier/Pressecker-Drachenseidla',\n",
              " '/bier/Schneider-Weisse-TAPX-Mein-Nelson-Sauvin',\n",
              " '/bier/Braufactum-Yakeros',\n",
              " '/bier/Mittenwalder-Karwendel-Hell',\n",
              " '/bier/Riedenburger-Dolden-Null',\n",
              " '/bier/Specht-Landbier',\n",
              " '/bier/Ganter-Pilsner',\n",
              " '/bier/Schinner-Premium-Edel-Weisse',\n",
              " '/bier/Luther-Urtyp',\n",
              " '/bier/Paderborner-Export',\n",
              " '/bier/Sternquell-Diaet-Pils',\n",
              " '/bier/Paulaner-Original-Muenchner-Urtyp',\n",
              " '/bier/Hasseroeder-Premium-Radler',\n",
              " '/bier/Feldschloesschen-Naturtruebes-Radler',\n",
              " '/bier/Baisinger-Teufels-Weisse-Helles-Hefe',\n",
              " '/bier/Bischofshof-Altvater',\n",
              " '/bier/Hacker-Pschorr-Sternweisse',\n",
              " '/bier/Keiler-Land-Pils',\n",
              " '/bier/Wettelsheimer-Premium-Maerzen',\n",
              " '/bier/LaBieratorium-Alte-Welt-Ale',\n",
              " '/bier/1447-Naturtrueb',\n",
              " '/bier/Greif-Braeu-Schloebberla',\n",
              " '/bier/Crew-Republic-Rest-In-Peace',\n",
              " '/bier/Insel-Brauerei-Seepferd-Wildsauer',\n",
              " '/bier/St-Georgen-Braeu-Helles',\n",
              " '/bier/Karlskrone-Pilsener',\n",
              " '/bier/Riegele-Augustus-Weizen-Doppelbock',\n",
              " '/bier/Autenrieder-Urtyp-Hell',\n",
              " '/bier/Veldensteiner-Zwickl',\n",
              " '/bier/Boltens-UrAlt',\n",
              " '/bier/Waldhaus-Spezial-Gold',\n",
              " '/bier/Flensburger-Weizen',\n",
              " '/bier/Mandarina-IPA',\n",
              " '/bier/Landskron-Weizen',\n",
              " '/bier/Altenburger-Lager',\n",
              " '/bier/Kapuziner-Winter-Weissbier',\n",
              " '/bier/Watzdorfer-1411-Festbier',\n",
              " '/bier/Koblenzer-Pils',\n",
              " '/bier/Tucher-Aecht-Nuernberger-Kellerbier',\n",
              " '/bier/Weiherer-Zwickerla-Hell',\n",
              " '/bier/Lemke-Original',\n",
              " '/bier/Maerkischer-Landmann',\n",
              " '/bier/Distelhaeuser-Black-Pearl-Porter',\n",
              " '/bier/Alpirsbacher-Weihnachtsbier',\n",
              " '/bier/Insel-Brauerei-Strandgut-Rauch-Eiche',\n",
              " '/bier/BRLO-Naked',\n",
              " '/bier/Kitzmann-Bergkirchweihbier',\n",
              " '/bier/Greabecker-Urweisse-Hell',\n",
              " '/bier/Camba-Maerzen',\n",
              " '/bier/Kurpfalz-Br-u-Kellerbier',\n",
              " '/bier/Goeller-Original',\n",
              " '/bier/Dresdner-Felsenkeller-Pilsner',\n",
              " '/bier/Loewenbrauerei-Passau-Urtyp-Hell',\n",
              " '/bier/Riedenburger-Weihnachts-Festbier',\n",
              " '/bier/Franziskaner-Alkoholfrei-Holunder',\n",
              " '/bier/Ratsherrn-Kaventsmann-Baltic-Porter',\n",
              " '/bier/Freibergisch-Schwarzbier',\n",
              " '/bier/Pinkus-Alt',\n",
              " '/bier/Klosterbraeu-Braunbier',\n",
              " '/bier/Waldhaus-Hopfensturm',\n",
              " '/bier/Rittmayer-Hefeweissbier',\n",
              " '/bier/Zunft-Koelsch',\n",
              " '/bier/Freiberger-Edelkeller',\n",
              " '/bier/Wolf-Bier-Helles',\n",
              " '/bier/Luebzer-Lemon',\n",
              " '/bier/Craftwerk-Mad-Callista',\n",
              " '/bier/Flensburger-Frei',\n",
              " '/bier/Perlenbacher-Weissbier',\n",
              " '/bier/Fiedler-Pilsener',\n",
              " '/bier/Aufsesser-Dunkel',\n",
              " '/bier/Ammerndorfer-Hell',\n",
              " '/bier/Engel-Bock-Dunkel',\n",
              " '/bier/Kappler-Haustrunk',\n",
              " '/bier/Altenm-nster-Landbier',\n",
              " '/bier/Sebaldus-Weizen-Dunkel',\n",
              " '/bier/Dinkelacker-Privat',\n",
              " '/bier/Franziskaner-Helles',\n",
              " '/bier/Vielanker-Pils',\n",
              " '/bier/Frankfurter-Premium-Pils',\n",
              " '/bier/Benediktiner-Weissbier-Dunkel',\n",
              " '/bier/Feldschloesschen-Maibock',\n",
              " '/bier/Maxlrainer-Schloss-Trunk',\n",
              " '/bier/Kitzmann-Kellerbier',\n",
              " '/bier/Weihenstephaner-Braupakt',\n",
              " '/bier/Wuellners-Braumeister-Premium-Pilsener-Feinherb',\n",
              " '/bier/Watzdorfer-Burg-Pils',\n",
              " '/bier/Mahrs-Braeu-Pilsner',\n",
              " '/bier/Hacklberg-Urhell',\n",
              " '/bier/Meckatzer-Weizen',\n",
              " '/bier/Loewenbraeu-Weisse',\n",
              " '/bier/Veltins-V-Energy',\n",
              " '/bier/Sachsengold-Pils',\n",
              " '/bier/Tilmans-Die-Dunkle',\n",
              " '/bier/Buddelship-Great-Escape-IPA',\n",
              " '/bier/Braustolz-Pils',\n",
              " '/bier/Rittmayer-Bitter-58',\n",
              " '/bier/Schweiger-Helles-Export',\n",
              " '/bier/Viechtacher-Vollbier-Hell',\n",
              " '/bier/Aufsesser-Pils',\n",
              " '/bier/Freibergisch-Jubilaeums-Festbier',\n",
              " '/bier/Pinkus-Pils',\n",
              " '/bier/Ayinger-Kellerbier',\n",
              " '/bier/Ehringsdorfer-Urbraeu',\n",
              " '/bier/Rothaus-Alkoholfrei-Hefeweizen',\n",
              " '/bier/Lemke-Pilsner',\n",
              " '/bier/Eifeler-Landbier',\n",
              " '/bier/Weissenoher-green-MONKey-Hersbrucker']"
            ]
          },
          "metadata": {
            "tags": []
          },
          "execution_count": 27
        }
      ]
    },
    {
      "cell_type": "markdown",
      "metadata": {
        "id": "G2DWtn6dUTuC"
      },
      "source": [
        "### 2. Verify Images\n",
        "- First, create a list of all your images\n",
        "- Use `verify_images` and `unlink` to remove broken images"
      ]
    },
    {
      "cell_type": "code",
      "metadata": {
        "id": "paQU1C7hRwdD"
      },
      "source": [
        "# Write your code here"
      ],
      "execution_count": null,
      "outputs": []
    },
    {
      "cell_type": "markdown",
      "metadata": {
        "id": "ofYTnNAR-9MY"
      },
      "source": [
        "### 3. Create the DataBlock\n",
        "For this, you need to think of:\n",
        "- What kinds of data we are working with\n",
        "- How to get the list of items\n",
        "- How to label these items\n",
        "- How to create the validation set\n",
        "\n",
        "Use `RandomResizedCrop` for `item_tfms`with an image size of 224 px, and the appropriate `aug_transforms` as `batch_tfms`."
      ]
    },
    {
      "cell_type": "code",
      "metadata": {
        "id": "K0OZBgHsVlak"
      },
      "source": [
        "# Write your code here"
      ],
      "execution_count": null,
      "outputs": []
    },
    {
      "cell_type": "markdown",
      "metadata": {
        "id": "6Ktlnvm7kBNc"
      },
      "source": [
        "### 4. Create the DataLoaders"
      ]
    },
    {
      "cell_type": "code",
      "metadata": {
        "id": "40vyWSSKkBNd"
      },
      "source": [
        "# Write your code here"
      ],
      "execution_count": null,
      "outputs": []
    },
    {
      "cell_type": "markdown",
      "metadata": {
        "id": "XSqwnxqHVsI1"
      },
      "source": [
        "### 5. Take a look at some of your pictures. \n",
        "Does everything look as expected?"
      ]
    },
    {
      "cell_type": "code",
      "metadata": {
        "id": "KiDCW4GkWGEh"
      },
      "source": [
        "# Write your code here"
      ],
      "execution_count": null,
      "outputs": []
    },
    {
      "cell_type": "markdown",
      "metadata": {
        "id": "NHPY-ROICpQS"
      },
      "source": [
        "## Modeling"
      ]
    },
    {
      "cell_type": "markdown",
      "metadata": {
        "id": "2QbIfj5hCz27"
      },
      "source": [
        "### 6. Create a learner\n",
        "\n",
        "Create an appropriate learner for your data\n",
        "- Choose an appropriate model [architecture](https://fastai1.fast.ai/vision.models.html)\n",
        "- Choose appropriate [metrics](https://docs.fast.ai/metrics.html) for your task"
      ]
    },
    {
      "cell_type": "code",
      "metadata": {
        "id": "MPbUxgzKqHf5"
      },
      "source": [
        "# Write your code here"
      ],
      "execution_count": null,
      "outputs": []
    },
    {
      "cell_type": "markdown",
      "metadata": {
        "id": "mZNWMhpdDGIx"
      },
      "source": [
        "### 7. Fit the model\n",
        "\n",
        "Use your knowdledge on model training to fit your model!"
      ]
    },
    {
      "cell_type": "code",
      "metadata": {
        "id": "t1Vg9n-6DImj"
      },
      "source": [
        "# Write your code here"
      ],
      "execution_count": null,
      "outputs": []
    },
    {
      "cell_type": "markdown",
      "metadata": {
        "id": "xStuybwxntEq"
      },
      "source": [
        "### 8. Evaluate the model\n",
        "\n",
        "You' ve already seen many ways to evaluate a model. Evaluate your model in a qualitative and quantitative manner."
      ]
    },
    {
      "cell_type": "code",
      "metadata": {
        "id": "bBbtzt8LqS_s"
      },
      "source": [
        "# Write your code here"
      ],
      "execution_count": null,
      "outputs": []
    },
    {
      "cell_type": "markdown",
      "metadata": {
        "id": "cd6Nk0qHkBNh"
      },
      "source": [
        "### 9. Clean your data\n",
        "\n",
        "Based on the evaluation, you may want to clean your data using the `ImageClassifierCleaner`.\n",
        "- Remeber to delete the selected data after using the cleaner:\n",
        "    ```python\n",
        "    for idx in cleaner.delete(): cleaner.fns[idx].unlink()\n",
        "    ```\n",
        "    \n",
        "    \n",
        "- Once we've cleaned up our data, we can retrain our model. \n",
        "\n"
      ]
    },
    {
      "cell_type": "code",
      "metadata": {
        "id": "cz-8XSSWkBNh"
      },
      "source": [
        "# Write your code here"
      ],
      "execution_count": null,
      "outputs": []
    },
    {
      "cell_type": "markdown",
      "metadata": {
        "id": "ssyYdCdbvDZU"
      },
      "source": [
        "## Turning Your Model into an Online Application"
      ]
    },
    {
      "cell_type": "markdown",
      "metadata": {
        "id": "6cEh8iR2vDZY"
      },
      "source": [
        "Now, take your app into production. You can follow the steps from the lecure:\n",
        "\n",
        "- Export your model via `learn.export`\n",
        "- Upload your model to [Github Releases](https://docs.github.com/en/free-pro-team@latest/github/administering-a-repository/about-releases) to make it publicly available at your repository.\n",
        "- Create and upload a new notebook that only contains the necassary code and IPython widgets for your App. \n",
        "    - Remeber to download the exported model from *Github Releases*\n",
        "    - Include a brief description of your app and the functionalities\n",
        "- Publish your web app on [Binder](https://mybinder.org/) using Voilà\n",
        "\n",
        "You can use the [example](https://github.com/pds2021/course/blob/main/nbs/07_Bear_App.ipynb) from the lecture as an orientation.\n",
        "\n",
        "If you're familiar with the world of web application development, you're free to use these skills and all your tools and ressources!"
      ]
    },
    {
      "cell_type": "code",
      "metadata": {
        "id": "sl91uVMvvDZY"
      },
      "source": [
        "# Write your code here"
      ],
      "execution_count": null,
      "outputs": []
    },
    {
      "cell_type": "markdown",
      "metadata": {
        "id": "Wf1TcLYtkBNk"
      },
      "source": [
        "## Finally, Provide a Link to Your App"
      ]
    },
    {
      "cell_type": "code",
      "metadata": {
        "id": "l4f5t_uJkBNk"
      },
      "source": [
        "# Provide the link to your web app"
      ],
      "execution_count": null,
      "outputs": []
    }
  ]
}